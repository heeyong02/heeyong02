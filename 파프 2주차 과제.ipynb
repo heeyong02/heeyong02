{
 "cells": [
  {
   "cell_type": "code",
   "execution_count": 13,
   "id": "b4532cb0",
   "metadata": {},
   "outputs": [
    {
     "name": "stdout",
     "output_type": "stream",
     "text": [
      "넓이를 구하고자 하는 원의 반지름은? 4\n",
      "반지름 4인 원의 넓이 = 3.14 X 4 X 4 = 50.24\n"
     ]
    }
   ],
   "source": [
    "#사용자 정의 함수부_조건1\n",
    "def get_radius(prompt):\n",
    "    r = int(input(prompt))\n",
    "    return r\n",
    "\n",
    "#사용자 정의 함수부_조건2\n",
    "def get_circle_area(r):\n",
    "    return 3.14 * r * r\n",
    "\n",
    "#주 프로그램부\n",
    "r = get_radius('넓이를 구하고자 하는 원의 반지름은? ')\n",
    "area = get_circle_area(r)\n",
    "print(f'반지름 {r}인 원의 넓이 = 3.14 X {r} X {r} = {area}')  #f-string 문자열 포맷팅방식"
   ]
  },
  {
   "cell_type": "code",
   "execution_count": null,
   "id": "8d5be8f1",
   "metadata": {},
   "outputs": [],
   "source": []
  }
 ],
 "metadata": {
  "kernelspec": {
   "display_name": "Python 3 (ipykernel)",
   "language": "python",
   "name": "python3"
  },
  "language_info": {
   "codemirror_mode": {
    "name": "ipython",
    "version": 3
   },
   "file_extension": ".py",
   "mimetype": "text/x-python",
   "name": "python",
   "nbconvert_exporter": "python",
   "pygments_lexer": "ipython3",
   "version": "3.10.9"
  }
 },
 "nbformat": 4,
 "nbformat_minor": 5
}
